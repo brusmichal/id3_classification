{
 "cells": [
  {
   "cell_type": "markdown",
   "source": [
    "# WSI 2022L\n",
    "# Laboratorium 4 (ID3)\n",
    "# Michał Brus, 299106"
   ],
   "metadata": {
    "collapsed": false,
    "pycharm": {
     "name": "#%% md\n"
    }
   }
  },
  {
   "cell_type": "markdown",
   "source": [
    "## Importy"
   ],
   "metadata": {
    "collapsed": false,
    "pycharm": {
     "name": "#%% md\n"
    }
   }
  },
  {
   "cell_type": "code",
   "execution_count": 404,
   "outputs": [],
   "source": [
    "import numpy as np\n",
    "import pandas as pd\n",
    "from sklearn.model_selection import train_test_split\n",
    "from sklearn import metrics"
   ],
   "metadata": {
    "collapsed": false,
    "pycharm": {
     "name": "#%%\n"
    }
   }
  },
  {
   "cell_type": "markdown",
   "source": [
    "## Wczytanie danych"
   ],
   "metadata": {
    "collapsed": false,
    "pycharm": {
     "name": "#%% md\n"
    }
   }
  },
  {
   "cell_type": "code",
   "execution_count": 405,
   "outputs": [
    {
     "data": {
      "text/plain": "                  event    age menopause tumor-size inv-nodes node-caps  \\\n0  no-recurrence-events  30-39   premeno      30-34       0-2        no   \n1  no-recurrence-events  40-49   premeno      20-24       0-2        no   \n2  no-recurrence-events  40-49   premeno      20-24       0-2        no   \n\n   deg-malig breast breast-quad irradiat  \n0          3   left    left_low       no  \n1          2  right    right_up       no  \n2          2   left    left_low       no  ",
      "text/html": "<div>\n<style scoped>\n    .dataframe tbody tr th:only-of-type {\n        vertical-align: middle;\n    }\n\n    .dataframe tbody tr th {\n        vertical-align: top;\n    }\n\n    .dataframe thead th {\n        text-align: right;\n    }\n</style>\n<table border=\"1\" class=\"dataframe\">\n  <thead>\n    <tr style=\"text-align: right;\">\n      <th></th>\n      <th>event</th>\n      <th>age</th>\n      <th>menopause</th>\n      <th>tumor-size</th>\n      <th>inv-nodes</th>\n      <th>node-caps</th>\n      <th>deg-malig</th>\n      <th>breast</th>\n      <th>breast-quad</th>\n      <th>irradiat</th>\n    </tr>\n  </thead>\n  <tbody>\n    <tr>\n      <th>0</th>\n      <td>no-recurrence-events</td>\n      <td>30-39</td>\n      <td>premeno</td>\n      <td>30-34</td>\n      <td>0-2</td>\n      <td>no</td>\n      <td>3</td>\n      <td>left</td>\n      <td>left_low</td>\n      <td>no</td>\n    </tr>\n    <tr>\n      <th>1</th>\n      <td>no-recurrence-events</td>\n      <td>40-49</td>\n      <td>premeno</td>\n      <td>20-24</td>\n      <td>0-2</td>\n      <td>no</td>\n      <td>2</td>\n      <td>right</td>\n      <td>right_up</td>\n      <td>no</td>\n    </tr>\n    <tr>\n      <th>2</th>\n      <td>no-recurrence-events</td>\n      <td>40-49</td>\n      <td>premeno</td>\n      <td>20-24</td>\n      <td>0-2</td>\n      <td>no</td>\n      <td>2</td>\n      <td>left</td>\n      <td>left_low</td>\n      <td>no</td>\n    </tr>\n  </tbody>\n</table>\n</div>"
     },
     "execution_count": 405,
     "metadata": {},
     "output_type": "execute_result"
    }
   ],
   "source": [
    "train_data = pd.read_csv('breast-cancer.data')\n",
    "train_data.head(3)"
   ],
   "metadata": {
    "collapsed": false,
    "pycharm": {
     "name": "#%%\n"
    }
   }
  },
  {
   "cell_type": "markdown",
   "source": [
    "## Funkcja licząca entropię"
   ],
   "metadata": {
    "collapsed": false,
    "pycharm": {
     "name": "#%% md\n"
    }
   }
  },
  {
   "cell_type": "code",
   "execution_count": 406,
   "outputs": [],
   "source": [
    "def calc_entropy(data, classificator_name, classificator_values):\n",
    "    rows_count = data.shape[0]\n",
    "    entropy = 0\n",
    "\n",
    "    for c_value in classificator_values:\n",
    "        c_count = data[data[classificator_name] == c_value].shape[0]\n",
    "        c_entropy = 0\n",
    "        if c_count != 0:\n",
    "            c_probability = c_count / rows_count\n",
    "            c_entropy = -c_probability * np.log2(c_probability)\n",
    "        entropy += c_entropy\n",
    "\n",
    "    return entropy"
   ],
   "metadata": {
    "collapsed": false,
    "pycharm": {
     "name": "#%%\n"
    }
   }
  },
  {
   "cell_type": "markdown",
   "source": [
    "### Całkowita entropia danych"
   ],
   "metadata": {
    "collapsed": false,
    "pycharm": {
     "name": "#%% md\n"
    }
   }
  },
  {
   "cell_type": "code",
   "execution_count": 407,
   "outputs": [
    {
     "data": {
      "text/plain": "0.7912991129798124"
     },
     "execution_count": 407,
     "metadata": {},
     "output_type": "execute_result"
    }
   ],
   "source": [
    "total_entropy = calc_entropy(train_data, 'irradiat', train_data['irradiat'].unique())\n",
    "total_entropy"
   ],
   "metadata": {
    "collapsed": false,
    "pycharm": {
     "name": "#%%\n"
    }
   }
  },
  {
   "cell_type": "markdown",
   "source": [
    "## Funcja licząca Information Gain"
   ],
   "metadata": {
    "collapsed": false,
    "pycharm": {
     "name": "#%% md\n"
    }
   }
  },
  {
   "cell_type": "code",
   "execution_count": 408,
   "outputs": [],
   "source": [
    "def calc_inf_gain(feature_name, data, classificator_name, classificator_values):\n",
    "    feature_values = data[feature_name].unique()\n",
    "    rows_count = data.shape[0]\n",
    "    feature_inf_gain = 0\n",
    "\n",
    "    for f_value in feature_values:\n",
    "        f_value_data = data[data[feature_name] == f_value]\n",
    "        f_value_count = f_value_data.shape[0]\n",
    "        f_value_entropy = calc_entropy(f_value_data, classificator_name, classificator_values)\n",
    "        f_value_probability = f_value_count / rows_count\n",
    "        feature_inf_gain += f_value_probability * f_value_entropy\n",
    "\n",
    "    return calc_entropy(data, classificator_name, classificator_values) - feature_inf_gain\n"
   ],
   "metadata": {
    "collapsed": false,
    "pycharm": {
     "name": "#%%\n"
    }
   }
  },
  {
   "cell_type": "markdown",
   "source": [
    "### Przykładowe IG dla 'tumor-size'"
   ],
   "metadata": {
    "collapsed": false,
    "pycharm": {
     "name": "#%% md\n"
    }
   }
  },
  {
   "cell_type": "code",
   "execution_count": 409,
   "outputs": [
    {
     "data": {
      "text/plain": "0.03697234523828685"
     },
     "execution_count": 409,
     "metadata": {},
     "output_type": "execute_result"
    }
   ],
   "source": [
    "calc_inf_gain('tumor-size', train_data, 'irradiat', train_data['irradiat'].unique())"
   ],
   "metadata": {
    "collapsed": false,
    "pycharm": {
     "name": "#%%\n"
    }
   }
  },
  {
   "cell_type": "markdown",
   "source": [
    "## Funkcja znajdująca zmienną, która ma największy IG"
   ],
   "metadata": {
    "collapsed": false,
    "pycharm": {
     "name": "#%% md\n"
    }
   }
  },
  {
   "cell_type": "code",
   "execution_count": 410,
   "outputs": [],
   "source": [
    "def find_max_inf_feature(data, classificator_name, classificator_values):\n",
    "    features = data.columns.drop(classificator_name)\n",
    "    max_inf_gain = -1\n",
    "    max_inf_feature = None\n",
    "\n",
    "    for feature in features:\n",
    "        feature_inf_gain = calc_inf_gain(feature, data, classificator_name, classificator_values)\n",
    "        if max_inf_gain < feature_inf_gain:\n",
    "            max_inf_gain = feature_inf_gain\n",
    "            max_inf_feature = feature\n",
    "\n",
    "    return max_inf_feature"
   ],
   "metadata": {
    "collapsed": false,
    "pycharm": {
     "name": "#%%\n"
    }
   }
  },
  {
   "cell_type": "code",
   "execution_count": 411,
   "outputs": [
    {
     "data": {
      "text/plain": "'inv-nodes'"
     },
     "execution_count": 411,
     "metadata": {},
     "output_type": "execute_result"
    }
   ],
   "source": [
    "find_max_inf_feature(train_data, 'irradiat', train_data['irradiat'].unique())"
   ],
   "metadata": {
    "collapsed": false,
    "pycharm": {
     "name": "#%%\n"
    }
   }
  },
  {
   "cell_type": "markdown",
   "source": [
    "## Funkcja pomocnicza do generacji drzewa"
   ],
   "metadata": {
    "collapsed": false,
    "pycharm": {
     "name": "#%% md\n"
    }
   }
  },
  {
   "cell_type": "code",
   "execution_count": 412,
   "outputs": [],
   "source": [
    "def generate_subtree(feature_name, data, classififcator_name, classificator_values):\n",
    "    feature_dict = data[feature_name].value_counts(sort=False)\n",
    "    tree = {}\n",
    "\n",
    "    for f_value, f_value_count in feature_dict.iteritems():\n",
    "        f_value_data = data[data[feature_name] == f_value]\n",
    "        is_one_value_node = False\n",
    "\n",
    "        for c_value in classificator_values:\n",
    "            c_value_count = f_value_data[f_value_data[classififcator_name] == c_value].shape[0]\n",
    "            if c_value_count == f_value_count:\n",
    "                tree[f_value] = c_value\n",
    "                data = data[data[feature_name] != f_value]\n",
    "                is_one_value_node = True\n",
    "\n",
    "        if not is_one_value_node:\n",
    "            tree[f_value] = '?'\n",
    "\n",
    "    return tree, data"
   ],
   "metadata": {
    "collapsed": false,
    "pycharm": {
     "name": "#%%\n"
    }
   }
  },
  {
   "cell_type": "markdown",
   "source": [
    "## Procedura generująca drzewo"
   ],
   "metadata": {
    "collapsed": false,
    "pycharm": {
     "name": "#%% md\n"
    }
   }
  },
  {
   "cell_type": "code",
   "execution_count": 413,
   "outputs": [],
   "source": [
    "def generate_tree(root, previous_feature_value, data, classificator_name, classificator_values, max_depth, current_depth=0):\n",
    "    if data.shape[0] != 0 and current_depth < max_depth:\n",
    "        current_depth += 1\n",
    "        max_inf_feature = find_max_inf_feature(data, classificator_name, classificator_values)\n",
    "        tree, data = generate_subtree(max_inf_feature, data, classificator_name, classificator_values)\n",
    "        next_root = None\n",
    "\n",
    "        if previous_feature_value is not None:\n",
    "            root[previous_feature_value] = {}\n",
    "            root[previous_feature_value][max_inf_feature] = tree\n",
    "            next_root = root[previous_feature_value][max_inf_feature]\n",
    "        else:\n",
    "            root[max_inf_feature] = tree\n",
    "            next_root = root[max_inf_feature]\n",
    "\n",
    "        for feature_value, branch in list(next_root.items()):\n",
    "            if branch == '?':\n",
    "                f_value_data = data[data[max_inf_feature] == feature_value]\n",
    "                generate_tree(next_root, feature_value, f_value_data, classificator_name, classificator_values, max_depth, current_depth)\n"
   ],
   "metadata": {
    "collapsed": false,
    "pycharm": {
     "name": "#%%\n"
    }
   }
  },
  {
   "cell_type": "markdown",
   "source": [
    "## Główny algorytm (ID3) ze zmienną głębokością"
   ],
   "metadata": {
    "collapsed": false,
    "pycharm": {
     "name": "#%% md\n"
    }
   }
  },
  {
   "cell_type": "code",
   "execution_count": 414,
   "outputs": [],
   "source": [
    "def id3(train_data, classificator_name, max_depth):\n",
    "    data = train_data.copy()\n",
    "    tree = {}\n",
    "    classificator_values = data[classificator_name].unique()\n",
    "    generate_tree(tree, None, data, classificator_name, classificator_values, max_depth)\n",
    "    return tree"
   ],
   "metadata": {
    "collapsed": false,
    "pycharm": {
     "name": "#%%\n"
    }
   }
  },
  {
   "cell_type": "markdown",
   "source": [
    "## Funkcja predykcji"
   ],
   "metadata": {
    "collapsed": false,
    "pycharm": {
     "name": "#%% md\n"
    }
   }
  },
  {
   "cell_type": "code",
   "execution_count": 415,
   "outputs": [],
   "source": [
    "def find_prediction(tree, row):\n",
    "    if not isinstance(tree, dict):\n",
    "        return tree\n",
    "    else:\n",
    "        current_feature = next(iter(tree))\n",
    "        feature_value = row[current_feature]\n",
    "        if feature_value in tree[current_feature]:\n",
    "            return find_prediction(tree[current_feature][feature_value], row)\n",
    "        else:\n",
    "            return '?'\n",
    "\n",
    "def predict(tree, data):\n",
    "    predictions = []\n",
    "    for i, row in data.iterrows():\n",
    "        predictions.append(find_prediction(tree, row))\n",
    "    return predictions"
   ],
   "metadata": {
    "collapsed": false,
    "pycharm": {
     "name": "#%%\n"
    }
   }
  },
  {
   "cell_type": "markdown",
   "source": [
    "## Podział danych na zbiór testowy i trenujący. Generacja drzewa i predykcja rezultatów. Sprawdzenie dokładności działania."
   ],
   "metadata": {
    "collapsed": false,
    "pycharm": {
     "name": "#%% md\n"
    }
   }
  },
  {
   "cell_type": "code",
   "execution_count": 416,
   "outputs": [],
   "source": [
    "def test():\n",
    "    train_data = pd.read_csv('breast-cancer.data')\n",
    "    X = train_data.iloc[:, :-1]\n",
    "    y = train_data.iloc[:, -1]\n",
    "    X_train, X_test, y_train, y_test = train_test_split(X, y, test_size=0.2)\n",
    "\n",
    "    xy_train = X_train.assign(irradiat=y_train)\n",
    "    xy_test = X_test.assign(irradiat=y_test)\n",
    "\n",
    "    tree = id3(xy_train, 'irradiat', 5)\n",
    "    predictions = predict(tree, xy_test)\n",
    "    accuracy = metrics.accuracy_score(y_test, predictions)\n",
    "    print(f\"Actual values: {list(y_test)}\")\n",
    "    print(f\"Predictions: {predictions}\")\n",
    "    print(f\"Accuracy: {accuracy}\")"
   ],
   "metadata": {
    "collapsed": false,
    "pycharm": {
     "name": "#%%\n"
    }
   }
  },
  {
   "cell_type": "code",
   "execution_count": 417,
   "outputs": [
    {
     "name": "stdout",
     "output_type": "stream",
     "text": [
      "Actual values: ['no', 'no', 'no', 'no', 'no', 'no', 'no', 'yes', 'no', 'no', 'no', 'no', 'no', 'no', 'no', 'no', 'no', 'yes', 'no', 'no', 'no', 'yes', 'no', 'no', 'no', 'yes', 'yes', 'no', 'no', 'no', 'yes', 'no', 'no', 'no', 'no', 'no', 'no', 'no', 'yes', 'no', 'yes', 'yes', 'no', 'no', 'no', 'yes', 'yes', 'yes', 'no', 'no', 'no', 'no', 'yes', 'no', 'no', 'no', 'no', 'no']\n",
      "Predictions: ['no', 'no', '?', 'no', 'no', 'no', 'no', 'yes', 'no', 'no', 'no', 'no', 'no', 'no', 'no', 'no', 'no', 'no', 'no', 'no', 'no', 'no', 'no', 'no', 'no', 'no', 'no', 'no', 'yes', 'no', 'yes', 'no', 'no', 'yes', 'yes', 'no', 'no', 'no', 'no', 'no', 'no', 'yes', 'no', 'yes', 'yes', 'no', 'no', 'no', 'no', 'no', 'no', '?', 'no', 'no', 'yes', 'no', 'yes', 'no']\n",
      "Accuracy: 0.6724137931034483\n"
     ]
    }
   ],
   "source": [
    "test()"
   ],
   "metadata": {
    "collapsed": false,
    "pycharm": {
     "name": "#%%\n"
    }
   }
  }
 ],
 "metadata": {
  "kernelspec": {
   "display_name": "Python 3",
   "language": "python",
   "name": "python3"
  },
  "language_info": {
   "codemirror_mode": {
    "name": "ipython",
    "version": 2
   },
   "file_extension": ".py",
   "mimetype": "text/x-python",
   "name": "python",
   "nbconvert_exporter": "python",
   "pygments_lexer": "ipython2",
   "version": "2.7.6"
  }
 },
 "nbformat": 4,
 "nbformat_minor": 0
}